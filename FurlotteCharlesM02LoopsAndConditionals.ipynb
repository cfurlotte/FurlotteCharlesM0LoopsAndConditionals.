{
 "cells": [
  {
   "cell_type": "code",
   "execution_count": 5,
   "id": "04749f62",
   "metadata": {},
   "outputs": [
    {
     "name": "stdout",
     "output_type": "stream",
     "text": [
      "too low\n"
     ]
    }
   ],
   "source": [
    "#4.1\n",
    "#choose a secret number\n",
    "secret = 9\n",
    "#choose a guess\n",
    "guess = 8\n",
    "#if statements\n",
    "if guess < secret:\n",
    "    print(f'too low')\n",
    "elif guess > secret:\n",
    "    print(f'too high')\n",
    "else:\n",
    "    print(f'just right')"
   ]
  },
  {
   "cell_type": "code",
   "execution_count": 4,
   "id": "7c574d57",
   "metadata": {},
   "outputs": [
    {
     "name": "stdout",
     "output_type": "stream",
     "text": [
      "pumpkin\n"
     ]
    }
   ],
   "source": [
    "#4.2\n",
    "#assigns vars\n",
    "small = True\n",
    "green = False\n",
    "#if else statements\n",
    "if small == True & green == True:\n",
    "    print('pea')\n",
    "elif small == False & green == True:\n",
    "    print('watermellon')\n",
    "elif small == True & green == False:\n",
    "    print('cherry')\n",
    "else:\n",
    "    print ('pumpkin')\n"
   ]
  },
  {
   "cell_type": "code",
   "execution_count": 6,
   "id": "9b1879f3",
   "metadata": {},
   "outputs": [
    {
     "name": "stdout",
     "output_type": "stream",
     "text": [
      "3\n",
      "2\n",
      "1\n",
      "0\n"
     ]
    }
   ],
   "source": [
    "#6.1\n",
    "#for loop to print [3, 2, 1, 0]\n",
    "list = [3, 2, 1, 0]\n",
    "for i in list:\n",
    "    print(i)"
   ]
  },
  {
   "cell_type": "code",
   "execution_count": 10,
   "id": "a16212e3",
   "metadata": {},
   "outputs": [
    {
     "name": "stdout",
     "output_type": "stream",
     "text": [
      "too low\n",
      "too low\n",
      "too low\n",
      "too low\n",
      "too low\n",
      "too low\n"
     ]
    }
   ],
   "source": [
    "#6.2\n",
    "#assign 7 to var guess_me\n",
    "guess_me = 7\n",
    "#assign 1 to number\n",
    "number = 1\n",
    "while number != guess_me:\n",
    "    if number < guess_me:\n",
    "        print('too low')\n",
    "    elif number == guess_me:\n",
    "        print('found it')\n",
    "    else:\n",
    "        print('oops')\n",
    "    number += 1"
   ]
  },
  {
   "cell_type": "code",
   "execution_count": 13,
   "id": "7ec17e9b",
   "metadata": {},
   "outputs": [
    {
     "name": "stdout",
     "output_type": "stream",
     "text": [
      "too low\n",
      "too low\n",
      "too low\n",
      "too low\n",
      "too low\n",
      "found it\n",
      "oops\n"
     ]
    }
   ],
   "source": [
    "#6.3\n",
    "#assign 5 to guess_me\n",
    "guess_me = 5\n",
    "number = 0\n",
    "for number in range(10):\n",
    "    if number < guess_me:\n",
    "        print('too low')\n",
    "    elif number == guess_me:\n",
    "        print('found it')\n",
    "    else:\n",
    "        print('oops')\n",
    "        break"
   ]
  },
  {
   "cell_type": "code",
   "execution_count": null,
   "id": "351cb401",
   "metadata": {},
   "outputs": [],
   "source": []
  }
 ],
 "metadata": {
  "kernelspec": {
   "display_name": "Python 3 (ipykernel)",
   "language": "python",
   "name": "python3"
  },
  "language_info": {
   "codemirror_mode": {
    "name": "ipython",
    "version": 3
   },
   "file_extension": ".py",
   "mimetype": "text/x-python",
   "name": "python",
   "nbconvert_exporter": "python",
   "pygments_lexer": "ipython3",
   "version": "3.11.5"
  }
 },
 "nbformat": 4,
 "nbformat_minor": 5
}
